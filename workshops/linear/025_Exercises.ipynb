{
 "cells": [
  {
   "cell_type": "markdown",
   "metadata": {
    "pycharm": {
     "name": "#%% md\n"
    }
   },
   "source": [
    "# Exercises\n",
    "\n",
    "There are three exercises in this notebook:\n",
    "\n",
    "1. Use the cross-validation method to test the linear regression with different $\\alpha$ values, at least three.\n",
    "2. Implement a SGD method that will train the Lasso regression for 10 epochs.\n",
    "3. Extend the Fisher's classifier to work with two features. Use the class as the $y$."
   ]
  },
  {
   "cell_type": "markdown",
   "metadata": {
    "pycharm": {
     "name": "#%% md\n"
    }
   },
   "source": [
    "## 1. Cross-validation linear regression\n",
    "\n",
    "You need to change the variable ``alpha`` to be a list of alphas. Next do a loop and finally compare the results."
   ]
  },
  {
   "cell_type": "code",
   "execution_count": 226,
   "metadata": {
    "pycharm": {
     "name": "#%%\n"
    }
   },
   "outputs": [
    {
     "name": "stdout",
     "output_type": "stream",
     "text": [
      "[[-180.92401772    1.61814247]\n",
      " [-101.72397081    1.16978757]\n",
      " [ -70.75142154    0.99445055]]\n"
     ]
    }
   ],
   "source": [
    "import numpy as np\n",
    "import matplotlib.pyplot as plt\n",
    "import pandas as ps\n",
    "\n",
    "x = np.array([188, 181, 197, 168, 167, 187, 178, 194, 140, 176, 168, 192, 173, 142, 176]).reshape(-1, 1).reshape(15,1)\n",
    "y = np.array([141, 106, 149, 59, 79, 136, 65, 136, 52, 87, 115, 140, 82, 69, 121]).reshape(-1, 1).reshape(15,1)\n",
    "\n",
    "x = np.asmatrix(np.c_[np.ones((15,1)),x])\n",
    "\n",
    "I = np.identity(2)\n",
    "alphas = []\n",
    "for i in range(0, 3):\n",
    "    alphas.append(round(i * 0.1, 1))\n",
    "\n",
    "elements = []\n",
    "for alpha in alphas:\n",
    "    w = np.linalg.inv(x.T*x + alpha * I)*x.T*y\n",
    "    w=w.ravel()\n",
    "    elements.append(w)\n",
    "\n",
    "results = np.asarray(list(elements))\n",
    "results = results.flatten().reshape(len(elements), 2)\n",
    "print(results)\n"
   ]
  },
  {
   "cell_type": "markdown",
   "metadata": {
    "pycharm": {
     "name": "#%% md\n"
    }
   },
   "source": [
    "## 2. Implement based on the Ridge regression example, the Lasso regression.\n",
    "\n",
    "Please implement the SGD method and compare the results with the sklearn Lasso regression results. "
   ]
  },
  {
   "cell_type": "code",
   "execution_count": 227,
   "metadata": {
    "pycharm": {
     "name": "#%%\n"
    }
   },
   "outputs": [],
   "source": [
    "def sgd(x, y, alpha, w):\n",
    "    normalizeData = np.linalg.norm(x, axis=0)\n",
    "    for i in range(0, 700):\n",
    "        x_data = x[:, 1].reshape(-1, 1)\n",
    "        y_pred = x_data * w[0] + w[1]\n",
    "        if w[0] > 0:\n",
    "            deltaW = (-x_data.T.dot(y - y_pred) * 2 + alpha) / (normalizeData[1] * normalizeData[1])\n",
    "        else:\n",
    "            deltaW = (-x_data.T.dot(y - y_pred) * 2 - alpha) / (normalizeData[1] * normalizeData[1])\n",
    "        delta = (-2) * np.sum(y - y_pred) / (normalizeData[0] * normalizeData[0])\n",
    "        w[0] = w[0] - alpha * deltaW\n",
    "        w[1] = w[1] - alpha *  delta\n",
    "\n",
    "    return w"
   ]
  },
  {
   "cell_type": "code",
   "execution_count": 228,
   "metadata": {
    "pycharm": {
     "name": "#%%\n"
    }
   },
   "outputs": [
    {
     "name": "stdout",
     "output_type": "stream",
     "text": [
      "Lasso 1.169787574869769 -101.72397080681458\n",
      "SGD 1.1651313951744873 -101.24480072786287\n"
     ]
    }
   ],
   "source": [
    "\n",
    "x = np.array([188, 181, 197, 168, 167, 187, 178, 194, 140, 176, 168, 192, 173, 142, 176]).reshape(-1, 1).reshape(15,1)\n",
    "y = np.array([141, 106, 149, 59, 79, 136, 65, 136, 52, 87, 115, 140, 82, 69, 121]).reshape(-1, 1).reshape(15,1)\n",
    "\n",
    "x = np.asmatrix(np.c_[np.ones((15,1)),x])\n",
    "\n",
    "I = np.identity(2)\n",
    "alpha = 0.1 \n",
    "\n",
    "\n",
    "w = np.linalg.inv(x.T*x + alpha * I)*x.T*y\n",
    "w=w.ravel()\n",
    "print(\"Lasso\", w[0,1], w[0,0])\n",
    "\n",
    "wSdg = np.ones((2, 1))\n",
    "w = sgd(x, y ,alpha, wSdg)\n",
    "w = w.ravel()\n",
    "print(\"SGD\", w[0], w[1] )\n"
   ]
  },
  {
   "cell_type": "markdown",
   "metadata": {
    "pycharm": {
     "name": "#%% md\n"
    }
   },
   "source": [
    "## 3. Extend the Fisher's classifier\n",
    "\n",
    "Please extend the targets of the ``iris_data`` variable and use it as the $y$."
   ]
  },
  {
   "cell_type": "code",
   "metadata": {
    "pycharm": {
     "name": "#%%\n"
    }
   },
   "source": [
    "import pandas as pd\n",
    "import numpy as np\n",
    "import matplotlib.pyplot as plt\n",
    "from sklearn.datasets import load_iris\n",
    "\n",
    "iris_data = load_iris()\n",
    "iris_df = pd.DataFrame(iris_data.data,columns=iris_data.feature_names)\n",
    "\n",
    "\n",
    "x = iris_df[['sepal width (cm)', 'petal width (cm)']].values # change here\n",
    "y = iris_df[['sepal length (cm)', 'petal length (cm)']].values # change here\n",
    "\n",
    "dataset_size = np.size(y)\n",
    "\n",
    "mean_x, mean_y = np.mean(x), np.mean(y)\n",
    "\n",
    "SS_xy = np.sum(y * x) - dataset_size * mean_y * mean_x\n",
    "SS_xx = np.sum(x * x) - dataset_size * mean_x * mean_x\n",
    "\n",
    "a = SS_xy / SS_xx\n",
    "b = mean_y - a * mean_x\n",
    "\n",
    "\n",
    "y_pred = a * x + b\n",
    "print(y_pred)"
   ],
   "execution_count": 229,
   "outputs": [
    {
     "name": "stdout",
     "output_type": "stream",
     "text": [
      "[[6.55223204 2.33825946]\n",
      " [5.91375134 2.33825946]\n",
      " [6.16914362 2.33825946]\n",
      " [6.04144748 2.33825946]\n",
      " [6.67992818 2.33825946]\n",
      " [7.06301659 2.59365173]\n",
      " [6.4245359  2.46595559]\n",
      " [6.4245359  2.33825946]\n",
      " [5.7860552  2.33825946]\n",
      " [6.04144748 2.21056332]\n",
      " [6.80762432 2.33825946]\n",
      " [6.4245359  2.33825946]\n",
      " [5.91375134 2.21056332]\n",
      " [5.91375134 2.21056332]\n",
      " [7.19071273 2.33825946]\n",
      " [7.70149729 2.59365173]\n",
      " [7.06301659 2.59365173]\n",
      " [6.55223204 2.46595559]\n",
      " [6.93532045 2.46595559]\n",
      " [6.93532045 2.46595559]\n",
      " [6.4245359  2.33825946]\n",
      " [6.80762432 2.59365173]\n",
      " [6.67992818 2.33825946]\n",
      " [6.29683976 2.72134787]\n",
      " [6.4245359  2.33825946]\n",
      " [5.91375134 2.33825946]\n",
      " [6.4245359  2.59365173]\n",
      " [6.55223204 2.33825946]\n",
      " [6.4245359  2.33825946]\n",
      " [6.16914362 2.33825946]\n",
      " [6.04144748 2.33825946]\n",
      " [6.4245359  2.59365173]\n",
      " [7.31840887 2.21056332]\n",
      " [7.44610501 2.33825946]\n",
      " [6.04144748 2.33825946]\n",
      " [6.16914362 2.33825946]\n",
      " [6.55223204 2.33825946]\n",
      " [6.67992818 2.21056332]\n",
      " [5.91375134 2.33825946]\n",
      " [6.4245359  2.33825946]\n",
      " [6.55223204 2.46595559]\n",
      " [5.01987837 2.46595559]\n",
      " [6.16914362 2.33825946]\n",
      " [6.55223204 2.84904401]\n",
      " [6.93532045 2.59365173]\n",
      " [5.91375134 2.46595559]\n",
      " [6.93532045 2.33825946]\n",
      " [6.16914362 2.33825946]\n",
      " [6.80762432 2.33825946]\n",
      " [6.29683976 2.33825946]\n",
      " [6.16914362 3.87061312]\n",
      " [6.16914362 3.99830926]\n",
      " [6.04144748 3.99830926]\n",
      " [5.01987837 3.74291698]\n",
      " [5.65835907 3.99830926]\n",
      " [5.65835907 3.74291698]\n",
      " [6.29683976 4.1260054 ]\n",
      " [5.14757451 3.35982857]\n",
      " [5.7860552  3.74291698]\n",
      " [5.53066293 3.87061312]\n",
      " [4.63678996 3.35982857]\n",
      " [5.91375134 3.99830926]\n",
      " [4.89218223 3.35982857]\n",
      " [5.7860552  3.87061312]\n",
      " [5.7860552  3.74291698]\n",
      " [6.04144748 3.87061312]\n",
      " [5.91375134 3.99830926]\n",
      " [5.53066293 3.35982857]\n",
      " [4.89218223 3.99830926]\n",
      " [5.27527065 3.48752471]\n",
      " [6.16914362 4.38139768]\n",
      " [5.65835907 3.74291698]\n",
      " [5.27527065 3.99830926]\n",
      " [5.65835907 3.61522084]\n",
      " [5.7860552  3.74291698]\n",
      " [5.91375134 3.87061312]\n",
      " [5.65835907 3.87061312]\n",
      " [5.91375134 4.25370154]\n",
      " [5.7860552  3.99830926]\n",
      " [5.40296679 3.35982857]\n",
      " [5.14757451 3.48752471]\n",
      " [5.14757451 3.35982857]\n",
      " [5.53066293 3.61522084]\n",
      " [5.53066293 4.1260054 ]\n",
      " [5.91375134 3.99830926]\n",
      " [6.4245359  4.1260054 ]\n",
      " [6.04144748 3.99830926]\n",
      " [5.01987837 3.74291698]\n",
      " [5.91375134 3.74291698]\n",
      " [5.27527065 3.74291698]\n",
      " [5.40296679 3.61522084]\n",
      " [5.91375134 3.87061312]\n",
      " [5.40296679 3.61522084]\n",
      " [5.01987837 3.35982857]\n",
      " [5.53066293 3.74291698]\n",
      " [5.91375134 3.61522084]\n",
      " [5.7860552  3.74291698]\n",
      " [5.7860552  3.74291698]\n",
      " [5.27527065 3.48752471]\n",
      " [5.65835907 3.74291698]\n",
      " [6.29683976 5.27527065]\n",
      " [5.53066293 4.50909382]\n",
      " [5.91375134 4.76448609]\n",
      " [5.7860552  4.38139768]\n",
      " [5.91375134 4.89218223]\n",
      " [5.91375134 4.76448609]\n",
      " [5.27527065 4.25370154]\n",
      " [5.7860552  4.38139768]\n",
      " [5.27527065 4.38139768]\n",
      " [6.67992818 5.27527065]\n",
      " [6.16914362 4.63678996]\n",
      " [5.53066293 4.50909382]\n",
      " [5.91375134 4.76448609]\n",
      " [5.27527065 4.63678996]\n",
      " [5.65835907 5.14757451]\n",
      " [6.16914362 5.01987837]\n",
      " [5.91375134 4.38139768]\n",
      " [6.93532045 4.89218223]\n",
      " [5.40296679 5.01987837]\n",
      " [4.89218223 3.99830926]\n",
      " [6.16914362 5.01987837]\n",
      " [5.65835907 4.63678996]\n",
      " [5.65835907 4.63678996]\n",
      " [5.53066293 4.38139768]\n",
      " [6.29683976 4.76448609]\n",
      " [6.16914362 4.38139768]\n",
      " [5.65835907 4.38139768]\n",
      " [5.91375134 4.38139768]\n",
      " [5.65835907 4.76448609]\n",
      " [5.91375134 4.1260054 ]\n",
      " [5.65835907 4.50909382]\n",
      " [6.93532045 4.63678996]\n",
      " [5.65835907 4.89218223]\n",
      " [5.65835907 3.99830926]\n",
      " [5.40296679 3.87061312]\n",
      " [5.91375134 5.01987837]\n",
      " [6.4245359  5.14757451]\n",
      " [6.04144748 4.38139768]\n",
      " [5.91375134 4.38139768]\n",
      " [6.04144748 4.76448609]\n",
      " [6.04144748 5.14757451]\n",
      " [6.04144748 5.01987837]\n",
      " [5.53066293 4.50909382]\n",
      " [6.16914362 5.01987837]\n",
      " [6.29683976 5.27527065]\n",
      " [5.91375134 5.01987837]\n",
      " [5.27527065 4.50909382]\n",
      " [5.91375134 4.63678996]\n",
      " [6.4245359  5.01987837]\n",
      " [5.91375134 4.38139768]]\n"
     ]
    }
   ]
  }
 ],
 "metadata": {
  "kernelspec": {
   "display_name": "Python 3",
   "language": "python",
   "name": "python3"
  },
  "language_info": {
   "codemirror_mode": {
    "name": "ipython",
    "version": 3
   },
   "file_extension": ".py",
   "mimetype": "text/x-python",
   "name": "python",
   "nbconvert_exporter": "python",
   "pygments_lexer": "ipython3",
   "version": "3.6.9"
  }
 },
 "nbformat": 4,
 "nbformat_minor": 4
}