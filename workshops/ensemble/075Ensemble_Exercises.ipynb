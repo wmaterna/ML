{
 "cells": [
  {
   "cell_type": "markdown",
   "metadata": {
    "pycharm": {
     "name": "#%% md\n"
    }
   },
   "source": [
    "# Ensemble methods. Exercises\n",
    "\n",
    "\n",
    "In this section we have only two exercise:\n",
    "\n",
    "1. Find the best three classifier in the stacking method using the classifiers from scikit-learn package.\n",
    "\n",
    "2. Build arcing arc-x4 method. "
   ]
  },
  {
   "cell_type": "code",
   "execution_count": 446,
   "metadata": {
    "pycharm": {
     "name": "#%%\n"
    }
   },
   "outputs": [],
   "source": [
    "data_set=None\n",
    "labels=None\n",
    "test_data_set=None\n",
    "test_labels=None\n",
    "unique_labels=None\n",
    "\n",
    "%store -r data_set\n",
    "%store -r labels\n",
    "%store -r test_data_set\n",
    "%store -r test_labels\n",
    "%store -r unique_labels"
   ]
  },
  {
   "cell_type": "markdown",
   "metadata": {
    "pycharm": {
     "name": "#%% md\n"
    }
   },
   "source": [
    "## Exercise 1: Find the best three classifier in the stacking method\n",
    "\n",
    "Please use the following classifiers:\n",
    "\n",
    "* Linear regression,\n",
    "* Nearest Neighbors,\n",
    "* Linear SVM,\n",
    "* Decision Tree,\n",
    "* Naive Bayes,\n",
    "* QDA."
   ]
  },
  {
   "cell_type": "code",
   "execution_count": 447,
   "metadata": {
    "pycharm": {
     "name": "#%%\n"
    }
   },
   "outputs": [],
   "source": [
    "import numpy as np\n",
    "from sklearn.metrics import accuracy_score\n",
    "\n",
    "from sklearn.linear_model import LinearRegression\n",
    "from sklearn.neighbors import KNeighborsClassifier\n",
    "from sklearn.svm import SVC\n",
    "from sklearn.tree import DecisionTreeClassifier\n",
    "from sklearn.naive_bayes import GaussianNB\n",
    "from sklearn.discriminant_analysis import QuadraticDiscriminantAnalysis\n",
    "from itertools import permutations"
   ]
  },
  {
   "cell_type": "code",
   "execution_count": 448,
   "metadata": {
    "pycharm": {
     "name": "#%%\n"
    }
   },
   "outputs": [],
   "source": [
    "def build_classifiers():\n",
    "    \n",
    "    neighbors = KNeighborsClassifier()\n",
    "    neighbors.fit(data_set, labels)\n",
    "\n",
    "    linear_regression = LinearRegression()\n",
    "    linear_regression.fit(data_set, labels)\n",
    "\n",
    "    qda = QuadraticDiscriminantAnalysis()\n",
    "    qda.fit(data_set, labels)\n",
    "\n",
    "    svc = SVC()\n",
    "    svc.fit(data_set, labels)\n",
    "\n",
    "    gaussian = GaussianNB()\n",
    "    gaussian.fit(data_set, labels)\n",
    "\n",
    "    tree = DecisionTreeClassifier()\n",
    "    tree.fit(data_set, labels)\n",
    "\n",
    "    return linear_regression, neighbors, tree, gaussian, qda, svc"
   ]
  },
  {
   "cell_type": "code",
   "execution_count": 449,
   "metadata": {
    "pycharm": {
     "name": "#%%\n"
    }
   },
   "outputs": [],
   "source": [
    "def build_stacked_classifier(classifiers):\n",
    "    output = []\n",
    "    for classifier in classifiers:\n",
    "        output.append(classifier.predict(data_set))\n",
    "    output = np.array(output).reshape((130,3))\n",
    "    \n",
    "    # stacked classifier part:\n",
    "    stacked_classifier = DecisionTreeClassifier()\n",
    "    stacked_classifier.fit(output.reshape((130,3)), labels.reshape((130,)))\n",
    "    test_set = []\n",
    "    for classifier in classifiers:\n",
    "        test_set.append(classifier.predict(test_data_set))\n",
    "    test_set = np.array(test_set).reshape((len(test_set[0]),3))\n",
    "    predicted = stacked_classifier.predict(test_set)\n",
    "    return predicted"
   ]
  },
  {
   "cell_type": "code",
   "execution_count": 450,
   "metadata": {
    "pycharm": {
     "name": "#%%\n"
    }
   },
   "outputs": [
    {
     "name": "stdout",
     "output_type": "stream",
     "text": [
      "Accuracy:  0.95 Classifiers:  (DecisionTreeClassifier(), KNeighborsClassifier(), QuadraticDiscriminantAnalysis())\n"
     ]
    }
   ],
   "source": [
    "classifiers = build_classifiers()\n",
    "permutations = permutations(classifiers, 3)\n",
    "result = 0.0\n",
    "classifier = None\n",
    "\n",
    "for permutation in permutations:\n",
    "    predicted = build_stacked_classifier(permutation)\n",
    "    accuracy = accuracy_score(test_labels, predicted)\n",
    "    if(accuracy > result):\n",
    "        classifier = permutation\n",
    "        result = accuracy\n",
    "print(\"Accuracy: \", result, \"Classifiers: \", classifier)"
   ]
  },
  {
   "cell_type": "markdown",
   "metadata": {
    "pycharm": {
     "name": "#%% md\n"
    }
   },
   "source": [
    "## Exercise 2: \n",
    "\n",
    "Use the boosting method and change the code to fullfilt the following requirements:\n",
    "\n",
    "* the weights should be calculated as:\n",
    "$w_{n}^{(t+1)}=\\frac{1+ I(y_{n}\\neq h_{t}(x_{n})}{\\sum_{i=1}^{N}1+I(y_{n}\\neq h_{t}(x_{n})}$,\n",
    "* the prediction is done with a voting method."
   ]
  },
  {
   "cell_type": "code",
   "execution_count": 451,
   "metadata": {
    "pycharm": {
     "name": "#%%\n"
    }
   },
   "outputs": [],
   "source": [
    "import numpy as np\n",
    "from sklearn.tree import DecisionTreeClassifier\n",
    "\n",
    "# prepare data set\n",
    "\n",
    "def generate_data(sample_number, feature_number, label_number):\n",
    "    data_set = np.random.random_sample((sample_number, feature_number))\n",
    "    labels = np.random.choice(label_number, sample_number)\n",
    "    return data_set, labels\n",
    "\n",
    "labels = 2\n",
    "dimension = 2\n",
    "test_set_size = 1000\n",
    "train_set_size = 5000\n",
    "train_set, train_labels = generate_data(train_set_size, dimension, labels)\n",
    "test_set, test_labels = generate_data(test_set_size, dimension, labels)\n",
    "\n",
    "# init weights\n",
    "number_of_iterations = 10\n",
    "weights = np.ones((test_set_size,)) / test_set_size\n",
    "\n",
    "\n",
    "def train_model(classifier, weights):\n",
    "    return classifier.fit(X=test_set, y=test_labels, sample_weight=weights)\n",
    "\n",
    "def calculate_accuracy_vector(predicted, labels):\n",
    "    result = []\n",
    "    for i in range(len(predicted)):\n",
    "        if predicted[i] == labels[i]:\n",
    "            result.append(1)\n",
    "        else:\n",
    "            result.append(0)\n",
    "    return result\n",
    "\n",
    "\n",
    "def calculate_error(model):\n",
    "    predicted = model.predict(test_set)\n",
    "    I=calculate_accuracy_vector(predicted, test_labels)\n",
    "    Z=np.sum(I)\n",
    "    return (1+Z)/1.0"
   ]
  },
  {
   "cell_type": "markdown",
   "metadata": {
    "pycharm": {
     "name": "#%% md\n"
    }
   },
   "source": [
    "Fill the two functions below:"
   ]
  },
  {
   "cell_type": "code",
   "execution_count": 452,
   "metadata": {
    "pycharm": {
     "name": "#%%\n"
    }
   },
   "outputs": [],
   "source": [
    "def set_new_weights(model):\n",
    "    predicted = model.predict(test_set)\n",
    "    new_weight = np.array(calculate_accuracy_vector(predicted, test_labels))\n",
    "    sum = np.sum(new_weight)\n",
    "    return (new_weight + 1) / sum"
   ]
  },
  {
   "cell_type": "markdown",
   "metadata": {
    "pycharm": {
     "name": "#%% md\n"
    }
   },
   "source": [
    "Train the classifier with the code below:"
   ]
  },
  {
   "cell_type": "code",
   "execution_count": 453,
   "metadata": {
    "pycharm": {
     "name": "#%%\n"
    }
   },
   "outputs": [
    {
     "name": "stdout",
     "output_type": "stream",
     "text": [
      "[0.0038835  0.00194175 0.00194175 0.0038835  0.0038835  0.0038835\n",
      " 0.00194175 0.00194175 0.00194175 0.00194175 0.00194175 0.0038835\n",
      " 0.0038835  0.00194175 0.0038835  0.00194175 0.00194175 0.00194175\n",
      " 0.0038835  0.00194175 0.00194175 0.00194175 0.00194175 0.00194175\n",
      " 0.00194175 0.00194175 0.0038835  0.00194175 0.00194175 0.00194175\n",
      " 0.0038835  0.0038835  0.00194175 0.00194175 0.00194175 0.0038835\n",
      " 0.00194175 0.00194175 0.0038835  0.0038835  0.0038835  0.00194175\n",
      " 0.0038835  0.00194175 0.00194175 0.00194175 0.0038835  0.0038835\n",
      " 0.00194175 0.0038835  0.0038835  0.0038835  0.0038835  0.0038835\n",
      " 0.0038835  0.00194175 0.00194175 0.0038835  0.00194175 0.0038835\n",
      " 0.00194175 0.00194175 0.0038835  0.0038835  0.00194175 0.0038835\n",
      " 0.00194175 0.0038835  0.0038835  0.0038835  0.0038835  0.0038835\n",
      " 0.0038835  0.0038835  0.0038835  0.0038835  0.0038835  0.0038835\n",
      " 0.00194175 0.0038835  0.00194175 0.0038835  0.0038835  0.00194175\n",
      " 0.0038835  0.0038835  0.0038835  0.0038835  0.0038835  0.0038835\n",
      " 0.0038835  0.00194175 0.0038835  0.00194175 0.0038835  0.00194175\n",
      " 0.00194175 0.0038835  0.0038835  0.00194175 0.0038835  0.00194175\n",
      " 0.0038835  0.0038835  0.00194175 0.0038835  0.0038835  0.00194175\n",
      " 0.0038835  0.0038835  0.0038835  0.00194175 0.0038835  0.00194175\n",
      " 0.00194175 0.0038835  0.00194175 0.0038835  0.00194175 0.0038835\n",
      " 0.00194175 0.00194175 0.0038835  0.0038835  0.0038835  0.00194175\n",
      " 0.0038835  0.0038835  0.0038835  0.0038835  0.0038835  0.0038835\n",
      " 0.00194175 0.0038835  0.00194175 0.00194175 0.00194175 0.0038835\n",
      " 0.00194175 0.00194175 0.0038835  0.00194175 0.00194175 0.00194175\n",
      " 0.0038835  0.00194175 0.0038835  0.00194175 0.00194175 0.00194175\n",
      " 0.0038835  0.00194175 0.0038835  0.00194175 0.0038835  0.00194175\n",
      " 0.0038835  0.0038835  0.0038835  0.00194175 0.0038835  0.0038835\n",
      " 0.0038835  0.00194175 0.0038835  0.0038835  0.0038835  0.0038835\n",
      " 0.00194175 0.00194175 0.00194175 0.00194175 0.0038835  0.0038835\n",
      " 0.0038835  0.0038835  0.0038835  0.0038835  0.00194175 0.0038835\n",
      " 0.00194175 0.00194175 0.00194175 0.00194175 0.0038835  0.0038835\n",
      " 0.0038835  0.00194175 0.00194175 0.0038835  0.0038835  0.00194175\n",
      " 0.0038835  0.0038835  0.00194175 0.00194175 0.0038835  0.0038835\n",
      " 0.00194175 0.0038835  0.00194175 0.0038835  0.00194175 0.00194175\n",
      " 0.0038835  0.0038835  0.0038835  0.00194175 0.00194175 0.0038835\n",
      " 0.00194175 0.00194175 0.00194175 0.00194175 0.00194175 0.0038835\n",
      " 0.0038835  0.0038835  0.0038835  0.0038835  0.0038835  0.00194175\n",
      " 0.0038835  0.0038835  0.0038835  0.00194175 0.0038835  0.0038835\n",
      " 0.00194175 0.0038835  0.00194175 0.00194175 0.00194175 0.00194175\n",
      " 0.00194175 0.0038835  0.00194175 0.00194175 0.0038835  0.00194175\n",
      " 0.00194175 0.0038835  0.00194175 0.00194175 0.00194175 0.0038835\n",
      " 0.0038835  0.00194175 0.0038835  0.00194175 0.0038835  0.0038835\n",
      " 0.00194175 0.0038835  0.00194175 0.00194175 0.00194175 0.00194175\n",
      " 0.0038835  0.00194175 0.00194175 0.0038835  0.00194175 0.00194175\n",
      " 0.00194175 0.00194175 0.0038835  0.0038835  0.00194175 0.00194175\n",
      " 0.00194175 0.0038835  0.00194175 0.0038835  0.0038835  0.0038835\n",
      " 0.0038835  0.00194175 0.0038835  0.0038835  0.00194175 0.00194175\n",
      " 0.0038835  0.00194175 0.00194175 0.00194175 0.00194175 0.0038835\n",
      " 0.00194175 0.0038835  0.00194175 0.00194175 0.00194175 0.0038835\n",
      " 0.00194175 0.0038835  0.0038835  0.0038835  0.00194175 0.00194175\n",
      " 0.00194175 0.0038835  0.00194175 0.00194175 0.00194175 0.00194175\n",
      " 0.0038835  0.0038835  0.00194175 0.0038835  0.0038835  0.00194175\n",
      " 0.0038835  0.00194175 0.0038835  0.00194175 0.00194175 0.0038835\n",
      " 0.0038835  0.00194175 0.0038835  0.0038835  0.00194175 0.00194175\n",
      " 0.00194175 0.00194175 0.00194175 0.0038835  0.0038835  0.00194175\n",
      " 0.00194175 0.0038835  0.00194175 0.00194175 0.0038835  0.00194175\n",
      " 0.0038835  0.00194175 0.0038835  0.00194175 0.0038835  0.00194175\n",
      " 0.0038835  0.0038835  0.00194175 0.0038835  0.00194175 0.00194175\n",
      " 0.0038835  0.0038835  0.00194175 0.0038835  0.0038835  0.00194175\n",
      " 0.0038835  0.0038835  0.00194175 0.0038835  0.00194175 0.0038835\n",
      " 0.0038835  0.0038835  0.00194175 0.0038835  0.0038835  0.0038835\n",
      " 0.0038835  0.0038835  0.00194175 0.0038835  0.0038835  0.0038835\n",
      " 0.0038835  0.0038835  0.0038835  0.0038835  0.00194175 0.0038835\n",
      " 0.00194175 0.00194175 0.0038835  0.0038835  0.00194175 0.0038835\n",
      " 0.0038835  0.0038835  0.00194175 0.0038835  0.0038835  0.0038835\n",
      " 0.00194175 0.00194175 0.0038835  0.00194175 0.00194175 0.00194175\n",
      " 0.0038835  0.0038835  0.00194175 0.0038835  0.00194175 0.0038835\n",
      " 0.0038835  0.00194175 0.0038835  0.0038835  0.0038835  0.0038835\n",
      " 0.0038835  0.0038835  0.00194175 0.00194175 0.00194175 0.0038835\n",
      " 0.0038835  0.00194175 0.0038835  0.0038835  0.0038835  0.00194175\n",
      " 0.0038835  0.00194175 0.00194175 0.0038835  0.0038835  0.00194175\n",
      " 0.00194175 0.00194175 0.0038835  0.00194175 0.00194175 0.00194175\n",
      " 0.0038835  0.00194175 0.0038835  0.0038835  0.0038835  0.0038835\n",
      " 0.0038835  0.00194175 0.00194175 0.0038835  0.00194175 0.00194175\n",
      " 0.0038835  0.00194175 0.0038835  0.00194175 0.0038835  0.00194175\n",
      " 0.00194175 0.0038835  0.0038835  0.00194175 0.0038835  0.00194175\n",
      " 0.0038835  0.0038835  0.0038835  0.00194175 0.0038835  0.00194175\n",
      " 0.00194175 0.00194175 0.00194175 0.0038835  0.00194175 0.0038835\n",
      " 0.00194175 0.0038835  0.00194175 0.00194175 0.00194175 0.0038835\n",
      " 0.00194175 0.00194175 0.00194175 0.00194175 0.00194175 0.0038835\n",
      " 0.0038835  0.00194175 0.00194175 0.00194175 0.00194175 0.00194175\n",
      " 0.0038835  0.00194175 0.0038835  0.00194175 0.00194175 0.0038835\n",
      " 0.00194175 0.0038835  0.0038835  0.0038835  0.0038835  0.00194175\n",
      " 0.00194175 0.0038835  0.0038835  0.00194175 0.00194175 0.0038835\n",
      " 0.00194175 0.0038835  0.0038835  0.0038835  0.00194175 0.00194175\n",
      " 0.0038835  0.0038835  0.00194175 0.0038835  0.00194175 0.0038835\n",
      " 0.00194175 0.0038835  0.00194175 0.00194175 0.0038835  0.0038835\n",
      " 0.0038835  0.00194175 0.0038835  0.0038835  0.0038835  0.00194175\n",
      " 0.0038835  0.0038835  0.0038835  0.00194175 0.00194175 0.0038835\n",
      " 0.00194175 0.0038835  0.00194175 0.00194175 0.00194175 0.0038835\n",
      " 0.00194175 0.0038835  0.0038835  0.0038835  0.0038835  0.00194175\n",
      " 0.0038835  0.0038835  0.00194175 0.0038835  0.00194175 0.0038835\n",
      " 0.00194175 0.0038835  0.00194175 0.00194175 0.00194175 0.00194175\n",
      " 0.00194175 0.00194175 0.00194175 0.0038835  0.00194175 0.0038835\n",
      " 0.00194175 0.0038835  0.00194175 0.00194175 0.0038835  0.00194175\n",
      " 0.0038835  0.0038835  0.0038835  0.0038835  0.0038835  0.00194175\n",
      " 0.0038835  0.0038835  0.00194175 0.00194175 0.00194175 0.0038835\n",
      " 0.0038835  0.00194175 0.00194175 0.00194175 0.0038835  0.0038835\n",
      " 0.00194175 0.00194175 0.00194175 0.00194175 0.0038835  0.00194175\n",
      " 0.0038835  0.00194175 0.00194175 0.0038835  0.00194175 0.0038835\n",
      " 0.0038835  0.00194175 0.0038835  0.0038835  0.0038835  0.0038835\n",
      " 0.0038835  0.0038835  0.00194175 0.0038835  0.00194175 0.00194175\n",
      " 0.00194175 0.00194175 0.0038835  0.00194175 0.00194175 0.0038835\n",
      " 0.0038835  0.00194175 0.00194175 0.0038835  0.0038835  0.0038835\n",
      " 0.00194175 0.0038835  0.00194175 0.00194175 0.00194175 0.00194175\n",
      " 0.00194175 0.0038835  0.0038835  0.00194175 0.00194175 0.0038835\n",
      " 0.0038835  0.00194175 0.00194175 0.0038835  0.0038835  0.0038835\n",
      " 0.00194175 0.0038835  0.00194175 0.00194175 0.0038835  0.0038835\n",
      " 0.00194175 0.00194175 0.00194175 0.0038835  0.00194175 0.00194175\n",
      " 0.00194175 0.0038835  0.00194175 0.0038835  0.0038835  0.0038835\n",
      " 0.0038835  0.00194175 0.00194175 0.00194175 0.00194175 0.0038835\n",
      " 0.0038835  0.0038835  0.0038835  0.0038835  0.00194175 0.0038835\n",
      " 0.0038835  0.00194175 0.00194175 0.0038835  0.00194175 0.0038835\n",
      " 0.0038835  0.00194175 0.00194175 0.0038835  0.00194175 0.00194175\n",
      " 0.0038835  0.0038835  0.0038835  0.0038835  0.0038835  0.00194175\n",
      " 0.00194175 0.0038835  0.00194175 0.0038835  0.0038835  0.00194175\n",
      " 0.0038835  0.0038835  0.0038835  0.00194175 0.0038835  0.0038835\n",
      " 0.00194175 0.0038835  0.0038835  0.00194175 0.0038835  0.0038835\n",
      " 0.00194175 0.0038835  0.0038835  0.0038835  0.0038835  0.00194175\n",
      " 0.0038835  0.0038835  0.00194175 0.0038835  0.00194175 0.00194175\n",
      " 0.00194175 0.00194175 0.00194175 0.0038835  0.00194175 0.0038835\n",
      " 0.00194175 0.0038835  0.0038835  0.00194175 0.0038835  0.00194175\n",
      " 0.0038835  0.00194175 0.0038835  0.00194175 0.0038835  0.00194175\n",
      " 0.00194175 0.00194175 0.0038835  0.00194175 0.00194175 0.0038835\n",
      " 0.00194175 0.0038835  0.0038835  0.00194175 0.0038835  0.0038835\n",
      " 0.00194175 0.0038835  0.00194175 0.00194175 0.00194175 0.00194175\n",
      " 0.0038835  0.0038835  0.0038835  0.0038835  0.00194175 0.0038835\n",
      " 0.0038835  0.00194175 0.00194175 0.0038835  0.00194175 0.0038835\n",
      " 0.00194175 0.0038835  0.0038835  0.00194175 0.0038835  0.0038835\n",
      " 0.00194175 0.0038835  0.00194175 0.00194175 0.0038835  0.0038835\n",
      " 0.0038835  0.00194175 0.0038835  0.00194175 0.00194175 0.00194175\n",
      " 0.00194175 0.0038835  0.0038835  0.0038835  0.00194175 0.0038835\n",
      " 0.0038835  0.0038835  0.00194175 0.0038835  0.00194175 0.00194175\n",
      " 0.0038835  0.0038835  0.0038835  0.00194175 0.00194175 0.0038835\n",
      " 0.0038835  0.0038835  0.00194175 0.00194175 0.0038835  0.00194175\n",
      " 0.0038835  0.00194175 0.0038835  0.00194175 0.00194175 0.0038835\n",
      " 0.00194175 0.00194175 0.0038835  0.00194175 0.00194175 0.0038835\n",
      " 0.0038835  0.00194175 0.00194175 0.0038835  0.0038835  0.00194175\n",
      " 0.0038835  0.0038835  0.00194175 0.00194175 0.00194175 0.0038835\n",
      " 0.00194175 0.0038835  0.00194175 0.00194175 0.00194175 0.0038835\n",
      " 0.0038835  0.00194175 0.00194175 0.0038835  0.0038835  0.00194175\n",
      " 0.00194175 0.00194175 0.0038835  0.0038835  0.0038835  0.00194175\n",
      " 0.0038835  0.0038835  0.0038835  0.0038835  0.0038835  0.00194175\n",
      " 0.00194175 0.00194175 0.0038835  0.00194175 0.00194175 0.00194175\n",
      " 0.0038835  0.0038835  0.0038835  0.00194175 0.00194175 0.0038835\n",
      " 0.00194175 0.00194175 0.00194175 0.00194175 0.0038835  0.00194175\n",
      " 0.0038835  0.0038835  0.0038835  0.00194175 0.00194175 0.00194175\n",
      " 0.00194175 0.00194175 0.0038835  0.0038835  0.0038835  0.0038835\n",
      " 0.00194175 0.0038835  0.0038835  0.0038835  0.0038835  0.00194175\n",
      " 0.0038835  0.0038835  0.00194175 0.0038835  0.00194175 0.0038835\n",
      " 0.0038835  0.00194175 0.00194175 0.00194175 0.00194175 0.00194175\n",
      " 0.00194175 0.0038835  0.0038835  0.00194175 0.0038835  0.00194175\n",
      " 0.00194175 0.00194175 0.00194175 0.0038835  0.00194175 0.0038835\n",
      " 0.0038835  0.00194175 0.0038835  0.0038835  0.00194175 0.0038835\n",
      " 0.00194175 0.0038835  0.0038835  0.0038835  0.0038835  0.0038835\n",
      " 0.0038835  0.0038835  0.0038835  0.0038835  0.0038835  0.00194175\n",
      " 0.00194175 0.00194175 0.00194175 0.00194175 0.00194175 0.0038835\n",
      " 0.00194175 0.00194175 0.0038835  0.00194175 0.00194175 0.0038835\n",
      " 0.0038835  0.00194175 0.0038835  0.00194175 0.0038835  0.0038835\n",
      " 0.00194175 0.0038835  0.0038835  0.0038835  0.0038835  0.00194175\n",
      " 0.0038835  0.00194175 0.00194175 0.0038835  0.00194175 0.0038835\n",
      " 0.00194175 0.0038835  0.00194175 0.00194175 0.00194175 0.00194175\n",
      " 0.0038835  0.0038835  0.00194175 0.0038835  0.0038835  0.0038835\n",
      " 0.00194175 0.00194175 0.0038835  0.0038835  0.0038835  0.00194175\n",
      " 0.00194175 0.00194175 0.0038835  0.00194175 0.00194175 0.0038835\n",
      " 0.00194175 0.0038835  0.0038835  0.00194175 0.0038835  0.0038835\n",
      " 0.00194175 0.00194175 0.0038835  0.00194175]\n"
     ]
    }
   ],
   "source": [
    "classifier = DecisionTreeClassifier(max_depth=1, random_state=1)\n",
    "classifier.fit(X=train_set, y=train_labels)\n",
    "alphas = []\n",
    "classifiers = []\n",
    "for iteration in range(number_of_iterations):\n",
    "    model = train_model(classifier, weights)\n",
    "    weights = set_new_weights(model)\n",
    "    classifiers.append(model)\n",
    "\n",
    "print(weights)\n",
    "\n",
    "\n",
    "validate_x, validate_label = generate_data(1, dimension, labels)"
   ]
  },
  {
   "cell_type": "markdown",
   "metadata": {
    "pycharm": {
     "name": "#%% md\n"
    }
   },
   "source": [
    "Set the validation data set:"
   ]
  },
  {
   "cell_type": "code",
   "execution_count": 454,
   "metadata": {
    "pycharm": {
     "name": "#%%\n"
    }
   },
   "outputs": [],
   "source": [
    "validate_x, validate_label = generate_data(1, dimension, labels)"
   ]
  },
  {
   "cell_type": "markdown",
   "metadata": {
    "pycharm": {
     "name": "#%% md\n"
    }
   },
   "source": [
    "Fill the prediction code:"
   ]
  },
  {
   "cell_type": "code",
   "execution_count": 455,
   "metadata": {
    "pycharm": {
     "name": "#%%\n"
    }
   },
   "outputs": [],
   "source": [
    "def get_prediction(x):\n",
    "    output = []\n",
    "    predicted = []\n",
    "    for classifier in classifiers:\n",
    "        print(classifier.predict(x))\n",
    "        output.append(classifier.predict(x))\n",
    "    output = np.array(output)\n",
    "    for i in range(len(x)):\n",
    "        classified = output[:, i]\n",
    "        counts = np.bincount(classified)\n",
    "        predicted.append(np.argmax(counts))\n",
    "    return predicted"
   ]
  },
  {
   "cell_type": "markdown",
   "metadata": {
    "pycharm": {
     "name": "#%% md\n"
    }
   },
   "source": [
    "Test it:"
   ]
  },
  {
   "cell_type": "code",
   "execution_count": 456,
   "metadata": {
    "pycharm": {
     "name": "#%%\n"
    }
   },
   "outputs": [
    {
     "name": "stdout",
     "output_type": "stream",
     "text": [
      "[1]\n",
      "[1]\n",
      "[1]\n",
      "[1]\n",
      "[1]\n",
      "[1]\n",
      "[1]\n",
      "[1]\n",
      "[1]\n",
      "[1]\n",
      "More probable class: 1\n"
     ]
    }
   ],
   "source": [
    "prediction = get_prediction(validate_x)[0]\n",
    "\n",
    "print(\"More probable class:\", prediction)"
   ]
  }
 ],
 "metadata": {
  "kernelspec": {
   "display_name": "Python 3",
   "language": "python",
   "name": "python3"
  },
  "language_info": {
   "codemirror_mode": {
    "name": "ipython",
    "version": 3
   },
   "file_extension": ".py",
   "mimetype": "text/x-python",
   "name": "python",
   "nbconvert_exporter": "python",
   "pygments_lexer": "ipython3",
   "version": "3.6.9"
  }
 },
 "nbformat": 4,
 "nbformat_minor": 4
}